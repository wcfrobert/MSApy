{
 "cells": [
  {
   "cell_type": "markdown",
   "metadata": {},
   "source": [
    "# Introduction"
   ]
  },
  {
   "cell_type": "code",
   "execution_count": 1,
   "metadata": {},
   "outputs": [],
   "source": [
    "import sympy as sy\n",
    "import numpy as np\n",
    "A,Av,I,L,J,G,E,x= sy.symbols('A,Av,I,L,J,G,E,x')"
   ]
  },
  {
   "cell_type": "markdown",
   "metadata": {},
   "source": [
    "Stiffness matrix can be derived by inverting the flexibility matrix and applying a series of transformation. Flexibility coefficients can be determined through principle of virtual works and applying series of unit loads. Refer to Chapter 4 of MASTAN textbook for more info. A shortcut approach was taken since equilibrium matrix can be written for the entire determinate structure\n",
    "$$\n",
    "[d]=\n",
    "\\begin{bmatrix}\n",
    "d_{33} & d_{34}\\\\\n",
    "d_{43} & d_{44}\\\\\n",
    "\\end{bmatrix}\n",
    "$$\n",
    "\n",
    "$$\n",
    "[T]=\n",
    "\\begin{bmatrix}\n",
    "-1&-L&1&0\\\\\n",
    "0&-1&0&1\n",
    "\\end{bmatrix}\n",
    "$$\n",
    "\n",
    "$$\n",
    "[K] = [T]^T [d]^{-1} [T]\n",
    "$$"
   ]
  },
  {
   "cell_type": "markdown",
   "metadata": {},
   "source": [
    "# Without shear deformation"
   ]
  },
  {
   "cell_type": "code",
   "execution_count": 2,
   "metadata": {
    "scrolled": false
   },
   "outputs": [],
   "source": [
    "d33 = sy.integrate((L-x)**2/E/I,[x,0,L])\n",
    "d44 = sy.integrate(1/E/I,[x,0,L])\n",
    "d34 = sy.integrate((L-x)/E/I,[x,0,L])\n",
    "d43 = d34 #maxwell betti reciprocal theorem"
   ]
  },
  {
   "cell_type": "code",
   "execution_count": 3,
   "metadata": {},
   "outputs": [
    {
     "data": {
      "text/latex": [
       "$\\displaystyle \\left[\\begin{matrix}\\frac{L^{3}}{3 E I} & \\frac{L^{2}}{2 E I}\\\\\\frac{L^{2}}{2 E I} & \\frac{L}{E I}\\end{matrix}\\right]$"
      ],
      "text/plain": [
       "Matrix([\n",
       "[L**3/(3*E*I), L**2/(2*E*I)],\n",
       "[L**2/(2*E*I),      L/(E*I)]])"
      ]
     },
     "execution_count": 3,
     "metadata": {},
     "output_type": "execute_result"
    }
   ],
   "source": [
    "d_noshear = sy.Matrix([\n",
    "    [d33,d34],\n",
    "    [d43,d44]\n",
    "])\n",
    "d_noshear"
   ]
  },
  {
   "cell_type": "code",
   "execution_count": 4,
   "metadata": {},
   "outputs": [
    {
     "data": {
      "text/latex": [
       "$\\displaystyle \\left[\\begin{matrix}\\frac{12 E I}{L^{3}} & \\frac{6 E I}{L^{2}} & - \\frac{12 E I}{L^{3}} & \\frac{6 E I}{L^{2}}\\\\\\frac{6 E I}{L^{2}} & \\frac{4 E I}{L} & - \\frac{6 E I}{L^{2}} & \\frac{2 E I}{L}\\\\- \\frac{12 E I}{L^{3}} & - \\frac{6 E I}{L^{2}} & \\frac{12 E I}{L^{3}} & - \\frac{6 E I}{L^{2}}\\\\\\frac{6 E I}{L^{2}} & \\frac{2 E I}{L} & - \\frac{6 E I}{L^{2}} & \\frac{4 E I}{L}\\end{matrix}\\right]$"
      ],
      "text/plain": [
       "Matrix([\n",
       "[ 12*E*I/L**3,  6*E*I/L**2, -12*E*I/L**3,  6*E*I/L**2],\n",
       "[  6*E*I/L**2,     4*E*I/L,  -6*E*I/L**2,     2*E*I/L],\n",
       "[-12*E*I/L**3, -6*E*I/L**2,  12*E*I/L**3, -6*E*I/L**2],\n",
       "[  6*E*I/L**2,     2*E*I/L,  -6*E*I/L**2,     4*E*I/L]])"
      ]
     },
     "execution_count": 4,
     "metadata": {},
     "output_type": "execute_result"
    }
   ],
   "source": [
    "T=sy.Matrix([\n",
    "    [-1,-L,1,0],\n",
    "    [0,-1,0,1]\n",
    "])\n",
    "K_noshear = T.transpose() * d_noshear.inv() * T\n",
    "K_noshear"
   ]
  },
  {
   "cell_type": "markdown",
   "metadata": {},
   "source": [
    "# With shear deformation\n",
    "To include shear deformation, integrate shear strain as well. However, shear deformation only exists on the d33 term. The integral int(vV/GA) is zero for the other terms."
   ]
  },
  {
   "cell_type": "code",
   "execution_count": 5,
   "metadata": {},
   "outputs": [],
   "source": [
    "d33 = sy.integrate((L-x)**2/E/I,[x,0,L]) + sy.integrate(1/G/Av,[x,0,L]) \n",
    "d44 = sy.integrate(1/E/I,[x,0,L])\n",
    "d34 = sy.integrate((L-x)/E/I,[x,0,L])\n",
    "d43 = d34"
   ]
  },
  {
   "cell_type": "code",
   "execution_count": 6,
   "metadata": {},
   "outputs": [
    {
     "data": {
      "text/latex": [
       "$\\displaystyle \\left[\\begin{matrix}\\frac{L^{3}}{3 E I} + \\frac{L}{Av G} & \\frac{L^{2}}{2 E I}\\\\\\frac{L^{2}}{2 E I} & \\frac{L}{E I}\\end{matrix}\\right]$"
      ],
      "text/plain": [
       "Matrix([\n",
       "[L**3/(3*E*I) + L/(Av*G), L**2/(2*E*I)],\n",
       "[           L**2/(2*E*I),      L/(E*I)]])"
      ]
     },
     "execution_count": 6,
     "metadata": {},
     "output_type": "execute_result"
    }
   ],
   "source": [
    "d_shear = sy.Matrix([\n",
    "    [d33,d34],\n",
    "    [d43,d44]\n",
    "])\n",
    "d_shear"
   ]
  },
  {
   "cell_type": "code",
   "execution_count": 7,
   "metadata": {
    "scrolled": true
   },
   "outputs": [
    {
     "data": {
      "text/latex": [
       "$\\displaystyle \\left[\\begin{matrix}\\frac{12 Av E G I}{L \\left(Av G L^{2} + 12 E I\\right)} & \\frac{6 Av E G I}{Av G L^{2} + 12 E I} & - \\frac{12 Av E G I}{L \\left(Av G L^{2} + 12 E I\\right)} & \\frac{6 Av E G I}{Av G L^{2} + 12 E I}\\\\\\frac{6 Av E G I}{Av G L^{2} + 12 E I} & \\frac{4 E I \\left(Av G L^{2} + 3 E I\\right)}{L \\left(Av G L^{2} + 12 E I\\right)} & - \\frac{6 Av E G I}{Av G L^{2} + 12 E I} & \\frac{2 E I \\left(Av G L^{2} - 6 E I\\right)}{L \\left(Av G L^{2} + 12 E I\\right)}\\\\- \\frac{12 Av E G I}{L \\left(Av G L^{2} + 12 E I\\right)} & - \\frac{6 Av E G I}{Av G L^{2} + 12 E I} & \\frac{12 Av E G I}{L \\left(Av G L^{2} + 12 E I\\right)} & - \\frac{6 Av E G I}{Av G L^{2} + 12 E I}\\\\\\frac{6 Av E G I}{Av G L^{2} + 12 E I} & \\frac{2 E I \\left(Av G L^{2} - 6 E I\\right)}{L \\left(Av G L^{2} + 12 E I\\right)} & - \\frac{6 Av E G I}{Av G L^{2} + 12 E I} & \\frac{4 E I \\left(Av G L^{2} + 3 E I\\right)}{L \\left(Av G L^{2} + 12 E I\\right)}\\end{matrix}\\right]$"
      ],
      "text/plain": [
       "Matrix([\n",
       "[ 12*Av*E*G*I/(L*(Av*G*L**2 + 12*E*I)),                    6*Av*E*G*I/(Av*G*L**2 + 12*E*I), -12*Av*E*G*I/(L*(Av*G*L**2 + 12*E*I)),                    6*Av*E*G*I/(Av*G*L**2 + 12*E*I)],\n",
       "[      6*Av*E*G*I/(Av*G*L**2 + 12*E*I), 4*E*I*(Av*G*L**2 + 3*E*I)/(L*(Av*G*L**2 + 12*E*I)),      -6*Av*E*G*I/(Av*G*L**2 + 12*E*I), 2*E*I*(Av*G*L**2 - 6*E*I)/(L*(Av*G*L**2 + 12*E*I))],\n",
       "[-12*Av*E*G*I/(L*(Av*G*L**2 + 12*E*I)),                   -6*Av*E*G*I/(Av*G*L**2 + 12*E*I),  12*Av*E*G*I/(L*(Av*G*L**2 + 12*E*I)),                   -6*Av*E*G*I/(Av*G*L**2 + 12*E*I)],\n",
       "[      6*Av*E*G*I/(Av*G*L**2 + 12*E*I), 2*E*I*(Av*G*L**2 - 6*E*I)/(L*(Av*G*L**2 + 12*E*I)),      -6*Av*E*G*I/(Av*G*L**2 + 12*E*I), 4*E*I*(Av*G*L**2 + 3*E*I)/(L*(Av*G*L**2 + 12*E*I))]])"
      ]
     },
     "execution_count": 7,
     "metadata": {},
     "output_type": "execute_result"
    }
   ],
   "source": [
    "T=sy.Matrix([\n",
    "    [-1,-L,1,0],\n",
    "    [0,-1,0,1]\n",
    "])\n",
    "K_shear = T.transpose() * d_shear.inv() * T\n",
    "sy.simplify(K_shear)"
   ]
  },
  {
   "cell_type": "markdown",
   "metadata": {},
   "source": [
    "Note that even though shear deformation is only application for DOF33, it bled into the other stiffness terms after inversion.\n",
    "\n",
    "Obviously the above form is not very manageable. So textbooks usually write it in terms of another variables. Here is one in terms of theta. Let's verify that they are indeed the same since everything is a algebraic mess right now."
   ]
  },
  {
   "cell_type": "code",
   "execution_count": 8,
   "metadata": {},
   "outputs": [
    {
     "data": {
      "text/latex": [
       "$\\displaystyle \\left[\\begin{matrix}\\frac{12 E I}{L^{3} \\left(1 + \\frac{12 E I}{Av G L^{2}}\\right)} & \\frac{6 E I}{L^{2} \\left(1 + \\frac{12 E I}{Av G L^{2}}\\right)} & - \\frac{12 E I}{L^{3} \\left(1 + \\frac{12 E I}{Av G L^{2}}\\right)} & \\frac{6 E I}{L^{2} \\left(1 + \\frac{12 E I}{Av G L^{2}}\\right)}\\\\\\frac{6 E I}{L^{2} \\left(1 + \\frac{12 E I}{Av G L^{2}}\\right)} & \\frac{E I \\left(4 + \\frac{12 E I}{Av G L^{2}}\\right)}{L \\left(1 + \\frac{12 E I}{Av G L^{2}}\\right)} & - \\frac{6 E I}{L^{2} \\left(1 + \\frac{12 E I}{Av G L^{2}}\\right)} & \\frac{E I \\left(2 - \\frac{12 E I}{Av G L^{2}}\\right)}{L \\left(1 + \\frac{12 E I}{Av G L^{2}}\\right)}\\\\- \\frac{12 E I}{L^{3} \\left(1 + \\frac{12 E I}{Av G L^{2}}\\right)} & - \\frac{6 E I}{L^{2} \\left(1 + \\frac{12 E I}{Av G L^{2}}\\right)} & \\frac{12 E I}{L^{3} \\left(1 + \\frac{12 E I}{Av G L^{2}}\\right)} & - \\frac{6 E I}{L^{2} \\left(1 + \\frac{12 E I}{Av G L^{2}}\\right)}\\\\\\frac{6 E I}{L^{2} \\left(1 + \\frac{12 E I}{Av G L^{2}}\\right)} & \\frac{E I \\left(2 - \\frac{12 E I}{Av G L^{2}}\\right)}{L \\left(1 + \\frac{12 E I}{Av G L^{2}}\\right)} & - \\frac{6 E I}{L^{2} \\left(1 + \\frac{12 E I}{Av G L^{2}}\\right)} & \\frac{E I \\left(4 + \\frac{12 E I}{Av G L^{2}}\\right)}{L \\left(1 + \\frac{12 E I}{Av G L^{2}}\\right)}\\end{matrix}\\right]$"
      ],
      "text/plain": [
       "Matrix([\n",
       "[ 12*E*I/(L**3*(1 + 12*E*I/(Av*G*L**2))),                     6*E*I/(L**2*(1 + 12*E*I/(Av*G*L**2))), -12*E*I/(L**3*(1 + 12*E*I/(Av*G*L**2))),                     6*E*I/(L**2*(1 + 12*E*I/(Av*G*L**2)))],\n",
       "[  6*E*I/(L**2*(1 + 12*E*I/(Av*G*L**2))), E*I*(4 + 12*E*I/(Av*G*L**2))/(L*(1 + 12*E*I/(Av*G*L**2))),  -6*E*I/(L**2*(1 + 12*E*I/(Av*G*L**2))), E*I*(2 - 12*E*I/(Av*G*L**2))/(L*(1 + 12*E*I/(Av*G*L**2)))],\n",
       "[-12*E*I/(L**3*(1 + 12*E*I/(Av*G*L**2))),                    -6*E*I/(L**2*(1 + 12*E*I/(Av*G*L**2))),  12*E*I/(L**3*(1 + 12*E*I/(Av*G*L**2))),                    -6*E*I/(L**2*(1 + 12*E*I/(Av*G*L**2)))],\n",
       "[  6*E*I/(L**2*(1 + 12*E*I/(Av*G*L**2))), E*I*(2 - 12*E*I/(Av*G*L**2))/(L*(1 + 12*E*I/(Av*G*L**2))),  -6*E*I/(L**2*(1 + 12*E*I/(Av*G*L**2))), E*I*(4 + 12*E*I/(Av*G*L**2))/(L*(1 + 12*E*I/(Av*G*L**2)))]])"
      ]
     },
     "execution_count": 8,
     "metadata": {},
     "output_type": "execute_result"
    }
   ],
   "source": [
    "theta = 12*E*I/G/Av/L/L\n",
    "k_shear_alternative = sy.Matrix([\n",
    "    [12*E*I/L**3/(1+theta),6*E*I/L/L/(1+theta),-12*E*I/L**3/(1+theta),6*E*I/L/L/(1+theta)],\n",
    "    [6*E*I/L/L/(1+theta),(4+theta)*E*I/L/(1+theta),-6*E*I/L/L/(1+theta),(2-theta)*E*I/L/(1+theta)],\n",
    "    [-12*E*I/L**3/(1+theta),-6*E*I/L/L/(1+theta),12*E*I/L**3/(1+theta),-6*E*I/L/L/(1+theta)],\n",
    "    [6*E*I/L/L/(1+theta),(2-theta)*E*I/L/(1+theta),-6*E*I/L/L/(1+theta),(4+theta)*E*I/L/(1+theta)]\n",
    "])\n",
    "k_shear_alternative"
   ]
  },
  {
   "cell_type": "code",
   "execution_count": 9,
   "metadata": {
    "scrolled": false
   },
   "outputs": [
    {
     "data": {
      "text/latex": [
       "$\\displaystyle \\left[\\begin{matrix}0 & 0 & 0 & 0\\\\0 & 0 & 0 & 0\\\\0 & 0 & 0 & 0\\\\0 & 0 & 0 & 0\\end{matrix}\\right]$"
      ],
      "text/plain": [
       "Matrix([\n",
       "[0, 0, 0, 0],\n",
       "[0, 0, 0, 0],\n",
       "[0, 0, 0, 0],\n",
       "[0, 0, 0, 0]])"
      ]
     },
     "execution_count": 9,
     "metadata": {},
     "output_type": "execute_result"
    }
   ],
   "source": [
    "sy.simplify(K_shear - k_shear_alternative)"
   ]
  },
  {
   "cell_type": "markdown",
   "metadata": {},
   "source": [
    "Therefore they are indeed the same!"
   ]
  },
  {
   "cell_type": "markdown",
   "metadata": {},
   "source": [
    "# Comparison With a W14x120\n",
    "\n",
    "Let's see how much of a difference inclusion of shear deformation makes! Try 25ft and 15ft which represent typical beam and column span, respectively"
   ]
  },
  {
   "cell_type": "code",
   "execution_count": 10,
   "metadata": {},
   "outputs": [],
   "source": [
    "def percentagediff(A,B):\n",
    "    diff_matrix=np.zeros([4,4])\n",
    "    for i in range(4):\n",
    "        for j in range(4):\n",
    "            tempB=float(B[i,j])\n",
    "            tempA=float(A[i,j])\n",
    "            diff_matrix[i,j] = (tempB-tempA)/tempB*100\n",
    "    print(diff_matrix)"
   ]
  },
  {
   "cell_type": "markdown",
   "metadata": {},
   "source": [
    "### 25 ft"
   ]
  },
  {
   "cell_type": "code",
   "execution_count": 11,
   "metadata": {
    "scrolled": true
   },
   "outputs": [
    {
     "data": {
      "text/latex": [
       "$\\displaystyle \\left[\\begin{matrix}16.8442 & 2526.63 & -16.8442 & 2526.63\\\\2526.63 & 512394.0 & -2526.63 & 245594.0\\\\-16.8442 & -2526.63 & 16.8442 & -2526.63\\\\2526.63 & 245594.0 & -2526.63 & 512394.0\\end{matrix}\\right]$"
      ],
      "text/plain": [
       "Matrix([\n",
       "[ 16.8442,  2526.63, -16.8442,  2526.63],\n",
       "[ 2526.63, 512394.0, -2526.63, 245594.0],\n",
       "[-16.8442, -2526.63,  16.8442, -2526.63],\n",
       "[ 2526.63, 245594.0, -2526.63, 512394.0]])"
      ]
     },
     "execution_count": 11,
     "metadata": {},
     "output_type": "execute_result"
    }
   ],
   "source": [
    "AA=sy.N((K_shear.subs([\n",
    "    (A,35.3),(Av,8.55),(I,1380),(J,9.37),(E,29000),(G,11154),(L,300)\n",
    "])),6)\n",
    "AA"
   ]
  },
  {
   "cell_type": "code",
   "execution_count": 12,
   "metadata": {
    "scrolled": true
   },
   "outputs": [
    {
     "data": {
      "text/latex": [
       "$\\displaystyle \\left[\\begin{matrix}17.7867 & 2668.0 & -17.7867 & 2668.0\\\\2668.0 & 533600.0 & -2668.0 & 266800.0\\\\-17.7867 & -2668.0 & 17.7867 & -2668.0\\\\2668.0 & 266800.0 & -2668.0 & 533600.0\\end{matrix}\\right]$"
      ],
      "text/plain": [
       "Matrix([\n",
       "[ 17.7867,   2668.0, -17.7867,   2668.0],\n",
       "[  2668.0, 533600.0,  -2668.0, 266800.0],\n",
       "[-17.7867,  -2668.0,  17.7867,  -2668.0],\n",
       "[  2668.0, 266800.0,  -2668.0, 533600.0]])"
      ]
     },
     "execution_count": 12,
     "metadata": {},
     "output_type": "execute_result"
    }
   ],
   "source": [
    "BB=sy.N((K_noshear.subs([\n",
    "    (A,35.3),(Av,8.55),(I,1380),(J,9.37),(E,29000),(G,11154),(L,300)\n",
    "])),6)\n",
    "BB"
   ]
  },
  {
   "cell_type": "code",
   "execution_count": 13,
   "metadata": {
    "scrolled": true
   },
   "outputs": [
    {
     "name": "stdout",
     "output_type": "stream",
     "text": [
      "[[5.29876886 5.29876663 5.29876886 5.29876663]\n",
      " [5.29876663 3.97407937 5.29876663 7.94814702]\n",
      " [5.29876886 5.29876663 5.29876886 5.29876663]\n",
      " [5.29876663 7.94814702 5.29876663 3.97407937]]\n"
     ]
    }
   ],
   "source": [
    "percentagediff(AA,BB)"
   ]
  },
  {
   "cell_type": "markdown",
   "metadata": {},
   "source": [
    "### 15 ft"
   ]
  },
  {
   "cell_type": "code",
   "execution_count": 14,
   "metadata": {},
   "outputs": [
    {
     "data": {
      "text/latex": [
       "$\\displaystyle \\left[\\begin{matrix}71.2688 & 6414.19 & -71.2688 & 6414.19\\\\6414.19 & 799611.0 & -6414.19 & 354944.0\\\\-71.2688 & -6414.19 & 71.2688 & -6414.19\\\\6414.19 & 354944.0 & -6414.19 & 799611.0\\end{matrix}\\right]$"
      ],
      "text/plain": [
       "Matrix([\n",
       "[ 71.2688,  6414.19, -71.2688,  6414.19],\n",
       "[ 6414.19, 799611.0, -6414.19, 354944.0],\n",
       "[-71.2688, -6414.19,  71.2688, -6414.19],\n",
       "[ 6414.19, 354944.0, -6414.19, 799611.0]])"
      ]
     },
     "execution_count": 14,
     "metadata": {},
     "output_type": "execute_result"
    }
   ],
   "source": [
    "AA=sy.N((K_shear.subs([\n",
    "    (A,35.3),(Av,8.55),(I,1380),(J,9.37),(E,29000),(G,11154),(L,180)\n",
    "])),6)\n",
    "AA"
   ]
  },
  {
   "cell_type": "code",
   "execution_count": 15,
   "metadata": {},
   "outputs": [
    {
     "data": {
      "text/latex": [
       "$\\displaystyle \\left[\\begin{matrix}82.3457 & 7411.11 & -82.3457 & 7411.11\\\\7411.11 & 889333.0 & -7411.11 & 444667.0\\\\-82.3457 & -7411.11 & 82.3457 & -7411.11\\\\7411.11 & 444667.0 & -7411.11 & 889333.0\\end{matrix}\\right]$"
      ],
      "text/plain": [
       "Matrix([\n",
       "[ 82.3457,  7411.11, -82.3457,  7411.11],\n",
       "[ 7411.11, 889333.0, -7411.11, 444667.0],\n",
       "[-82.3457, -7411.11,  82.3457, -7411.11],\n",
       "[ 7411.11, 444667.0, -7411.11, 889333.0]])"
      ]
     },
     "execution_count": 15,
     "metadata": {},
     "output_type": "execute_result"
    }
   ],
   "source": [
    "BB=sy.N((K_noshear.subs([\n",
    "    (A,35.3),(Av,8.55),(I,1380),(J,9.37),(E,29000),(G,11154),(L,180)\n",
    "])),6)\n",
    "BB"
   ]
  },
  {
   "cell_type": "code",
   "execution_count": 16,
   "metadata": {
    "scrolled": true
   },
   "outputs": [
    {
     "name": "stdout",
     "output_type": "stream",
     "text": [
      "[[13.45163979 13.45165317 13.45163979 13.45165317]\n",
      " [13.45165317 10.08873641 13.45165317 20.17747282]\n",
      " [13.45163979 13.45165317 13.45163979 13.45165317]\n",
      " [13.45165317 20.17747282 13.45165317 10.08873641]]\n"
     ]
    }
   ],
   "source": [
    "percentagediff(AA,BB)"
   ]
  },
  {
   "cell_type": "markdown",
   "metadata": {},
   "source": [
    "Seems like the difference can be upwards of 13%! Also notice that the percentage difference is same for the shear DOFs, ii moment DOFs, and ij moment DOFs\n",
    "\n",
    "Let's try a less stocky member. Maybe a W12x26"
   ]
  },
  {
   "cell_type": "code",
   "execution_count": 17,
   "metadata": {},
   "outputs": [
    {
     "name": "stdout",
     "output_type": "stream",
     "text": [
      "[[6.55583122 6.55583996 6.55583122 6.55583996]\n",
      " [6.55583996 4.91687174 6.55583996 9.83374349]\n",
      " [6.55583122 6.55583996 6.55583122 6.55583996]\n",
      " [6.55583996 9.83374349 6.55583996 4.91687174]]\n"
     ]
    }
   ],
   "source": [
    "# 15 ft\n",
    "AA=sy.N((K_shear.subs([\n",
    "    (A,35.3),(Av,2.8),(I,204),(J,0.3),(E,29000),(G,11154),(L,180)\n",
    "])),6)\n",
    "BB=sy.N((K_noshear.subs([\n",
    "    (A,35.3),(Av,2.8),(I,204),(J,0.3),(E,29000),(G,11154),(L,180)\n",
    "])),6)\n",
    "percentagediff(AA,BB)"
   ]
  },
  {
   "cell_type": "code",
   "execution_count": 18,
   "metadata": {},
   "outputs": [
    {
     "name": "stdout",
     "output_type": "stream",
     "text": [
      "[[2.46346103 2.46347408 2.46346103 2.46347408]\n",
      " [2.46347408 1.84760475 2.46347408 3.69518969]\n",
      " [2.46346103 2.46347408 2.46346103 2.46347408]\n",
      " [2.46347408 3.69518969 2.46347408 1.84760475]]\n"
     ]
    }
   ],
   "source": [
    "# 25 ft\n",
    "AA=sy.N((K_shear.subs([\n",
    "    (A,35.3),(Av,2.8),(I,204),(J,0.3),(E,29000),(G,11154),(L,300)\n",
    "])),6)\n",
    "BB=sy.N((K_noshear.subs([\n",
    "    (A,35.3),(Av,2.8),(I,204),(J,0.3),(E,29000),(G,11154),(L,300)\n",
    "])),6)\n",
    "percentagediff(AA,BB)"
   ]
  },
  {
   "cell_type": "markdown",
   "metadata": {},
   "source": [
    "Therefore, it seems like shear deformation is quite important for short stocky elements such as some typical columns used in moment frames"
   ]
  },
  {
   "cell_type": "markdown",
   "metadata": {},
   "source": [
    "# Summary"
   ]
  },
  {
   "cell_type": "markdown",
   "metadata": {},
   "source": [
    "The same principle applies to bending about the minor axis. However, there must be a few sign changes to be consistent with right hand rule.\n",
    "\n",
    "once we derive the bending terms about z, bending terms about y, the axial terms and torsional terms are trivial. Then everything can be assembled into a 3D overall stiffness matrix as shown below. Note how they are all decoupled. Red indicate bending about major axis, blue indicate bending about minor axis, axial and torsion terms are self-evident. \n",
    "\n",
    "Note that the stiffness matrix below DOES NOT include shear deformation. See one that does include shear deformation here: http://people.duke.edu/~hpgavin/cee421/frame-finite-def.pdf\n",
    "\n",
    "<img src=\"../imgs/12x12 stiffness matrix.PNG\" style=\"width: 600px\">"
   ]
  },
  {
   "cell_type": "markdown",
   "metadata": {},
   "source": [
    "# Moment Releases"
   ]
  },
  {
   "cell_type": "markdown",
   "metadata": {},
   "source": [
    "As far as I can tell, the above approach does not work for moment-released members. The rotation DOF at the released end is dependent on the other DOFs. In other words, we must know the other DOFs before we can calculate the released DOF.\n",
    "\n",
    "From most matrix analysis textbooks, the stiffness matrix of a beam element with one of the end pinned is given as the following:\n",
    "\n",
    "DOF1 = beginning node shear  \n",
    "DOF2 = beginning node moment  \n",
    "DOF3 = end node shear  \n",
    "DOF4 = end node moment  "
   ]
  },
  {
   "cell_type": "code",
   "execution_count": 19,
   "metadata": {},
   "outputs": [
    {
     "data": {
      "text/latex": [
       "$\\displaystyle \\left[\\begin{matrix}\\frac{3 E I}{L^{3}} & 0 & - \\frac{3 E I}{L^{3}} & \\frac{3 E I}{L^{2}}\\\\0 & 0 & 0 & 0\\\\- \\frac{3 E I}{L^{3}} & 0 & \\frac{3 E I}{L^{2}} & - \\frac{3 E I}{L^{2}}\\\\\\frac{3 E I}{L^{2}} & 0 & - \\frac{3 E I}{L^{2}} & \\frac{3 E I}{L}\\end{matrix}\\right]$"
      ],
      "text/plain": [
       "Matrix([\n",
       "[ 3*E*I/L**3, 0, -3*E*I/L**3,  3*E*I/L**2],\n",
       "[          0, 0,           0,           0],\n",
       "[-3*E*I/L**3, 0,  3*E*I/L**2, -3*E*I/L**2],\n",
       "[ 3*E*I/L**2, 0, -3*E*I/L**2,     3*E*I/L]])"
      ]
     },
     "execution_count": 19,
     "metadata": {},
     "output_type": "execute_result"
    }
   ],
   "source": [
    "K_bpin = sy.Matrix([\n",
    "    [3*E*I/L**3,0,-3*E*I/L**3,3*E*I/L**2],\n",
    "    [0,0,0,0],\n",
    "    [-3*E*I/L**3,0,3*E*I/L**2,-3*E*I/L**2],\n",
    "    [3*E*I/L**2,0,-3*E*I/L**2,3*E*I/L]\n",
    "])\n",
    "K_bpin"
   ]
  },
  {
   "cell_type": "code",
   "execution_count": 20,
   "metadata": {},
   "outputs": [
    {
     "data": {
      "text/latex": [
       "$\\displaystyle \\left[\\begin{matrix}\\frac{3 E I}{L^{3}} & \\frac{3 E I}{L^{2}} & - \\frac{3 E I}{L^{3}} & 0\\\\\\frac{3 E I}{L^{2}} & \\frac{3 E I}{L} & - \\frac{3 E I}{L^{2}} & 0\\\\- \\frac{3 E I}{L^{3}} & - \\frac{3 E I}{L^{2}} & \\frac{3 E I}{L^{3}} & 0\\\\0 & 0 & 0 & 0\\end{matrix}\\right]$"
      ],
      "text/plain": [
       "Matrix([\n",
       "[ 3*E*I/L**3,  3*E*I/L**2, -3*E*I/L**3, 0],\n",
       "[ 3*E*I/L**2,     3*E*I/L, -3*E*I/L**2, 0],\n",
       "[-3*E*I/L**3, -3*E*I/L**2,  3*E*I/L**3, 0],\n",
       "[          0,           0,           0, 0]])"
      ]
     },
     "execution_count": 20,
     "metadata": {},
     "output_type": "execute_result"
    }
   ],
   "source": [
    "K_epin = sy.Matrix([\n",
    "    [3*E*I/L**3,3*E*I/L**2,-3*E*I/L**3,0],\n",
    "    [3*E*I/L**2,3*E*I/L,-3*E*I/L**2,0],\n",
    "    [-3*E*I/L**3,-3*E*I/L**2,3*E*I/L**3,0],\n",
    "    [0,0,0,0]\n",
    "])\n",
    "K_epin"
   ]
  },
  {
   "cell_type": "markdown",
   "metadata": {},
   "source": [
    "If both ends are pinned, the member effectively becomes a truss element. Truss elements cannot carry moment nor shear and the stiffness matrix becomes:\n",
    "\n",
    "DOF1 = beginning node axial  \n",
    "DOF2 = end node axial "
   ]
  },
  {
   "cell_type": "code",
   "execution_count": 21,
   "metadata": {},
   "outputs": [
    {
     "data": {
      "text/latex": [
       "$\\displaystyle \\left[\\begin{matrix}\\frac{A E}{L} & - \\frac{A E}{L}\\\\- \\frac{A E}{L} & \\frac{A E}{L}\\end{matrix}\\right]$"
      ],
      "text/plain": [
       "Matrix([\n",
       "[ A*E/L, -A*E/L],\n",
       "[-A*E/L,  A*E/L]])"
      ]
     },
     "execution_count": 21,
     "metadata": {},
     "output_type": "execute_result"
    }
   ],
   "source": [
    "K_bepin = sy.Matrix([\n",
    "    [E*A/L,-E*A/L],\n",
    "    [-E*A/L,E*A/L]\n",
    "])\n",
    "K_bepin"
   ]
  },
  {
   "cell_type": "markdown",
   "metadata": {},
   "source": [
    "However, these matrices do not include shear deformation"
   ]
  },
  {
   "cell_type": "markdown",
   "metadata": {},
   "source": [
    "# Deriving elements stiffness with shear deformation and beginning node pinned"
   ]
  },
  {
   "cell_type": "markdown",
   "metadata": {},
   "source": [
    "Let's write down the entire force-displacement relationship from our stiffness matrix above by writing out the matrix multiplication. See chapter 7 of Kassimali textbook for approach. Beam element DOF 2,3,5,6. Note DOF 1 and 4 are axial and was left out for brevity. Vb,Ve,Mb,Me are member fixed-end forces from uniform load, temperature, lack-of-fit, and support settlement"
   ]
  },
  {
   "cell_type": "code",
   "execution_count": 22,
   "metadata": {},
   "outputs": [],
   "source": [
    "Kij=sy.simplify(K_shear)\n",
    "u2,u3,u5,u6,Vb,Mb,Ve,Me= sy.symbols('u2,u3,u5,u6,Vb,Mb,Ve,Me')\n",
    "\n",
    "Q2 = (Kij[0,0]*u2    +Kij[0,1]*u3    -Kij[0,2]*u5    +Kij[0,3]*u6) + Vb\n",
    "Q3 = (Kij[1,0]*u2    +Kij[1,1]*u3    -Kij[1,2]*u5    +Kij[1,3]*u6) + Mb\n",
    "Q5 = (Kij[2,0]*u2    -Kij[2,1]*u3    +Kij[2,2]*u5    -Kij[2,3]*u6) + Ve\n",
    "Q6 = (Kij[3,0]*u2    +Kij[3,1]*u3    -Kij[3,2]*u5    +Kij[3,3]*u6) + Me"
   ]
  },
  {
   "cell_type": "markdown",
   "metadata": {},
   "source": [
    "Q3 is 0 if beginning node is released. Set Q3 = 0 and then solve for u3. Based on the Kassimali text:"
   ]
  },
  {
   "cell_type": "code",
   "execution_count": 23,
   "metadata": {},
   "outputs": [
    {
     "data": {
      "text/latex": [
       "$\\displaystyle - \\frac{2 Av E G I L^{2} u_{6} + 6 Av E G I L u_{2} + 6 Av E G I L u_{5} + Av G L^{3} Mb - 12 E^{2} I^{2} u_{6} + 12 E I L Mb}{4 E I \\left(Av G L^{2} + 3 E I\\right)}$"
      ],
      "text/plain": [
       "-(2*Av*E*G*I*L**2*u6 + 6*Av*E*G*I*L*u2 + 6*Av*E*G*I*L*u5 + Av*G*L**3*Mb - 12*E**2*I**2*u6 + 12*E*I*L*Mb)/(4*E*I*(Av*G*L**2 + 3*E*I))"
      ]
     },
     "execution_count": 23,
     "metadata": {},
     "output_type": "execute_result"
    }
   ],
   "source": [
    "u3_expr = sy.solve(Q3,u3)[0]\n",
    "u3_expr"
   ]
  },
  {
   "cell_type": "markdown",
   "metadata": {},
   "source": [
    " ### Subbing u3 into the equation for Q2, Q5, and Q6 gives us:"
   ]
  },
  {
   "cell_type": "code",
   "execution_count": 35,
   "metadata": {
    "scrolled": true
   },
   "outputs": [
    {
     "data": {
      "text/latex": [
       "$\\displaystyle \\frac{3 Av E G I L u_{6} + 3 Av E G I u_{2} + 3 Av E G I u_{5} + Av G L^{3} Vb - \\frac{3 Av G L^{2} Mb}{2} + 3 E I L Vb}{L \\left(Av G L^{2} + 3 E I\\right)}$"
      ],
      "text/plain": [
       "(3*Av*E*G*I*L*u6 + 3*Av*E*G*I*u2 + 3*Av*E*G*I*u5 + Av*G*L**3*Vb - 3*Av*G*L**2*Mb/2 + 3*E*I*L*Vb)/(L*(Av*G*L**2 + 3*E*I))"
      ]
     },
     "execution_count": 35,
     "metadata": {},
     "output_type": "execute_result"
    }
   ],
   "source": [
    "sy.simplify(Q2.subs([(u3,u3_expr)]))"
   ]
  },
  {
   "cell_type": "code",
   "execution_count": 38,
   "metadata": {},
   "outputs": [
    {
     "data": {
      "text/latex": [
       "$\\displaystyle \\frac{0.5 Av E G I L u_{6} \\left(Av G L^{2} + 3.0 E I\\right) + 1.0 Av E G I \\left(- u_{2} + u_{5}\\right) \\left(Av G L^{2} + 3.0 E I\\right) - 0.125 Av G L \\left(2.0 Av E G I L^{2} u_{6} + 6.0 Av E G I L u_{2} + 6.0 Av E G I L u_{5} + Av G L^{3} Mb - 12.0 E^{2} I^{2} u_{6} + 12.0 E I L Mb\\right) + 1.0 L Ve \\left(0.0833333333333333 Av G L^{2} + E I\\right) \\left(Av G L^{2} + 3.0 E I\\right)}{L \\left(0.0833333333333333 Av G L^{2} + E I\\right) \\left(Av G L^{2} + 3.0 E I\\right)}$"
      ],
      "text/plain": [
       "(0.5*Av*E*G*I*L*u6*(Av*G*L**2 + 3.0*E*I) + 1.0*Av*E*G*I*(-u2 + u5)*(Av*G*L**2 + 3.0*E*I) - 0.125*Av*G*L*(2.0*Av*E*G*I*L**2*u6 + 6.0*Av*E*G*I*L*u2 + 6.0*Av*E*G*I*L*u5 + Av*G*L**3*Mb - 12.0*E**2*I**2*u6 + 12.0*E*I*L*Mb) + 1.0*L*Ve*(0.0833333333333333*Av*G*L**2 + E*I)*(Av*G*L**2 + 3.0*E*I))/(L*(0.0833333333333333*Av*G*L**2 + E*I)*(Av*G*L**2 + 3.0*E*I))"
      ]
     },
     "execution_count": 38,
     "metadata": {},
     "output_type": "execute_result"
    }
   ],
   "source": [
    "sy.simplify(sy.N(Q5.subs([(u3,u3_expr)])),3)"
   ]
  },
  {
   "cell_type": "code",
   "execution_count": 36,
   "metadata": {
    "scrolled": true
   },
   "outputs": [
    {
     "data": {
      "text/latex": [
       "$\\displaystyle \\frac{3 Av E G I L u_{6} + 3 Av E G I u_{2} + 3 Av E G I u_{5} - \\frac{Av G L^{2} Mb}{2} + Av G L^{2} Me + 3 E I Mb + 3 E I Me}{Av G L^{2} + 3 E I}$"
      ],
      "text/plain": [
       "(3*Av*E*G*I*L*u6 + 3*Av*E*G*I*u2 + 3*Av*E*G*I*u5 - Av*G*L**2*Mb/2 + Av*G*L**2*Me + 3*E*I*Mb + 3*E*I*Me)/(Av*G*L**2 + 3*E*I)"
      ]
     },
     "execution_count": 36,
     "metadata": {},
     "output_type": "execute_result"
    }
   ],
   "source": [
    "sy.simplify(Q6.subs([(u3,u3_expr)]))"
   ]
  },
  {
   "cell_type": "markdown",
   "metadata": {},
   "source": [
    "Note how the Fixed-end forces also change and becomes a function of stiffness. Let's do some quick comparisons"
   ]
  },
  {
   "cell_type": "markdown",
   "metadata": {},
   "source": [
    "# Comparison of K\n",
    "For brevity lets compare a few terms"
   ]
  },
  {
   "cell_type": "code",
   "execution_count": 27,
   "metadata": {},
   "outputs": [
    {
     "data": {
      "text/latex": [
       "$\\displaystyle \\frac{3 E I}{L^{3}}$"
      ],
      "text/plain": [
       "3*E*I/L**3"
      ]
     },
     "execution_count": 27,
     "metadata": {},
     "output_type": "execute_result"
    }
   ],
   "source": [
    "k11 = 3*E*I/L**3\n",
    "k11"
   ]
  },
  {
   "cell_type": "markdown",
   "metadata": {},
   "source": [
    "If we were to include shear deformation as indicated above:"
   ]
  },
  {
   "cell_type": "code",
   "execution_count": 28,
   "metadata": {
    "scrolled": true
   },
   "outputs": [
    {
     "data": {
      "text/latex": [
       "$\\displaystyle \\frac{3 Av E G I}{L \\left(Av G L^{2} + 3 E I\\right)}$"
      ],
      "text/plain": [
       "3*Av*E*G*I/(L*(Av*G*L**2 + 3*E*I))"
      ]
     },
     "execution_count": 28,
     "metadata": {},
     "output_type": "execute_result"
    }
   ],
   "source": [
    "X = Av*G*L*L+3*E*I\n",
    "k11_shear = 3*Av*E*G*I/L/X\n",
    "k11_shear"
   ]
  },
  {
   "cell_type": "code",
   "execution_count": 29,
   "metadata": {},
   "outputs": [
    {
     "data": {
      "text/latex": [
       "$\\displaystyle 19.8164350418544$"
      ],
      "text/plain": [
       "19.8164350418544"
      ]
     },
     "execution_count": 29,
     "metadata": {},
     "output_type": "execute_result"
    }
   ],
   "source": [
    "test1=k11_shear.subs([(Av,8.55),(I,1380),(E,29000),(G,11154),(L,180)])\n",
    "test1"
   ]
  },
  {
   "cell_type": "code",
   "execution_count": 30,
   "metadata": {
    "scrolled": true
   },
   "outputs": [
    {
     "data": {
      "text/latex": [
       "$\\displaystyle 20.5864$"
      ],
      "text/plain": [
       "20.5864"
      ]
     },
     "execution_count": 30,
     "metadata": {},
     "output_type": "execute_result"
    }
   ],
   "source": [
    "test2=sy.N(k11.subs([(I,1380),(E,29000),(L,180)]),6)\n",
    "test2"
   ]
  },
  {
   "cell_type": "code",
   "execution_count": 31,
   "metadata": {
    "scrolled": true
   },
   "outputs": [
    {
     "data": {
      "text/latex": [
       "$\\displaystyle 0.0374024808162979$"
      ],
      "text/plain": [
       "0.0374024808162979"
      ]
     },
     "execution_count": 31,
     "metadata": {},
     "output_type": "execute_result"
    }
   ],
   "source": [
    "(test2 - test1)/test2"
   ]
  },
  {
   "cell_type": "markdown",
   "metadata": {},
   "source": [
    "Notice how with the same W14x120 member and 15 ft length, the percentage difference is only 3%, compared to 13% of the fixed-fixed elements"
   ]
  },
  {
   "cell_type": "markdown",
   "metadata": {},
   "source": [
    "# Comparison of FEF"
   ]
  },
  {
   "cell_type": "code",
   "execution_count": 40,
   "metadata": {
    "scrolled": true
   },
   "outputs": [
    {
     "data": {
      "text/latex": [
       "$\\displaystyle \\frac{3 L w}{8}$"
      ],
      "text/plain": [
       "3*L*w/8"
      ]
     },
     "execution_count": 40,
     "metadata": {},
     "output_type": "execute_result"
    }
   ],
   "source": [
    "w=sy.symbols('w')\n",
    "FEF = 3*w*L/8\n",
    "FEF"
   ]
  },
  {
   "cell_type": "code",
   "execution_count": 41,
   "metadata": {},
   "outputs": [
    {
     "data": {
      "text/latex": [
       "$\\displaystyle \\frac{3 L w \\left(Av G L^{2} + 4 E I\\right)}{8 \\left(Av G L^{2} + 3 E I\\right)}$"
      ],
      "text/plain": [
       "3*L*w*(Av*G*L**2 + 4*E*I)/(8*(Av*G*L**2 + 3*E*I))"
      ]
     },
     "execution_count": 41,
     "metadata": {},
     "output_type": "execute_result"
    }
   ],
   "source": [
    "Vb=w*L/2\n",
    "Mb=w*L*L/12\n",
    "\n",
    "FEF_shear= (Av*G*L*L*L*Vb + 3*E*I*L*Vb - 3*Av*G*L*L*Mb/2)/X/L\n",
    "\n",
    "sy.simplify(FEF_shear)"
   ]
  },
  {
   "cell_type": "markdown",
   "metadata": {},
   "source": [
    "Notice how the second term has a ratio of stiffnesses. Let's see the percentage difference"
   ]
  },
  {
   "cell_type": "code",
   "execution_count": 42,
   "metadata": {},
   "outputs": [
    {
     "data": {
      "text/latex": [
       "$\\displaystyle 33.75$"
      ],
      "text/plain": [
       "33.7500000000000"
      ]
     },
     "execution_count": 42,
     "metadata": {},
     "output_type": "execute_result"
    }
   ],
   "source": [
    "test3=FEF.subs([(w,0.5),(L,180)])\n",
    "test3"
   ]
  },
  {
   "cell_type": "code",
   "execution_count": 43,
   "metadata": {},
   "outputs": [
    {
     "data": {
      "text/latex": [
       "$\\displaystyle 34.1707787514904$"
      ],
      "text/plain": [
       "34.1707787514904"
      ]
     },
     "execution_count": 43,
     "metadata": {},
     "output_type": "execute_result"
    }
   ],
   "source": [
    "test4=FEF_shear.subs([(w,0.5),(L,180),(Av,8.55),(I,1380),(E,29000),(G,11154)])\n",
    "test4"
   ]
  },
  {
   "cell_type": "code",
   "execution_count": 44,
   "metadata": {},
   "outputs": [
    {
     "data": {
      "text/latex": [
       "$\\displaystyle -1.24675185626773$"
      ],
      "text/plain": [
       "-1.24675185626773"
      ]
     },
     "execution_count": 44,
     "metadata": {},
     "output_type": "execute_result"
    }
   ],
   "source": [
    "(test3 - test4)/test3*100"
   ]
  },
  {
   "cell_type": "markdown",
   "metadata": {},
   "source": [
    "The difference is about 1.2% which is very small!"
   ]
  }
 ],
 "metadata": {
  "kernelspec": {
   "display_name": "Python 3",
   "language": "python",
   "name": "python3"
  },
  "language_info": {
   "codemirror_mode": {
    "name": "ipython",
    "version": 3
   },
   "file_extension": ".py",
   "mimetype": "text/x-python",
   "name": "python",
   "nbconvert_exporter": "python",
   "pygments_lexer": "ipython3",
   "version": "3.8.1"
  }
 },
 "nbformat": 4,
 "nbformat_minor": 4
}
